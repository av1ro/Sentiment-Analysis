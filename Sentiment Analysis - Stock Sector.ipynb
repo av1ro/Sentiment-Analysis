{
 "cells": [
  {
   "cell_type": "markdown",
   "metadata": {},
   "source": [
    "## Analysis and comparison for Stock price sentiment for Pharma Companies vs Technology stocks."
   ]
  },
  {
   "cell_type": "markdown",
   "metadata": {},
   "source": [
    "This analysis will be done to generate investing insight by applying sentiment analysis on financial news headlines from FINVIZ.com. Using natural language processing technique, will try to understand the emotion behind the headlines and predict whether the market feels good or bad about 2 sectors in stock price. One group will hold stock prices for companies which are producing vaccines and other group will have technology companies which are going all time highs. It would then be possible to make educated guesses on how certain stocks will perform and invest accordingly."
   ]
  },
  {
   "cell_type": "code",
   "execution_count": 24,
   "metadata": {},
   "outputs": [],
   "source": [
    "# import libraries \n",
    "# create list for 2 types of stock ticker list\n",
    "# For pherma companies we will use Pfizer, Moderna and Astra Zeneca and for Tech stocks we will \n",
    "# use Apple,google,amazon \n",
    "\n",
    "import pandas as pd\n",
    "from bs4 import BeautifulSoup\n",
    "import matplotlib.pyplot as plt\n",
    "from urllib.request import urlopen\n",
    "from urllib.request import Request\n",
    "from nltk.sentiment.vader import SentimentIntensityAnalyzer\n",
    "import requests\n",
    "\n",
    "# Parameters \n",
    "n = 3 #the # of article headlines displayed per ticker\n",
    "pharma_tickers = ['PFE', 'MRNA', 'AZN','JNJ']\n",
    "tech_tickers = ['AAPL', 'GOOGL', 'AMZN', 'MSFT','FB']"
   ]
  },
  {
   "cell_type": "code",
   "execution_count": 25,
   "metadata": {},
   "outputs": [],
   "source": [
    "# function to get data from finviz for ticker list\n",
    "def get_data(tickers):\n",
    "# Get Data\n",
    "    finviz_url = 'https://finviz.com/quote.ashx?t='\n",
    "    news_tables = {}\n",
    "\n",
    "    for ticker in tickers:\n",
    "        url = finviz_url + ticker\n",
    "        req = Request(url=url,headers={'user-agent': 'my-app/0.0.1'}) \n",
    "        resp = urlopen(req)    \n",
    "        html = BeautifulSoup(resp, features=\"lxml\")\n",
    "        news_table = html.find(id='news-table')\n",
    "        news_tables[ticker] = news_table\n",
    "\n",
    "    try:\n",
    "        for ticker in tickers:\n",
    "            df = news_tables[ticker]\n",
    "            df_tr = df.findAll('tr')\n",
    "    \n",
    "            print ('\\n')\n",
    "            print ('Recent News Headlines for {}: '.format(ticker))\n",
    "        \n",
    "            for i, table_row in enumerate(df_tr):\n",
    "                a_text = table_row.a.text\n",
    "                td_text = table_row.td.text\n",
    "                td_text = td_text.strip()\n",
    "                print(a_text,'(',td_text,')')\n",
    "                if i == n-1:\n",
    "                    break\n",
    "    except KeyError:\n",
    "        pass\n",
    "    \n",
    "    # Iterate through the news\n",
    "    parsed_news = []\n",
    "    for file_name, news_table in news_tables.items():\n",
    "        for x in news_table.findAll('tr'):\n",
    "            text = x.a.get_text() \n",
    "            date_scrape = x.td.text.split()\n",
    "\n",
    "            if len(date_scrape) == 1:\n",
    "                time = date_scrape[0]\n",
    "            \n",
    "            else:\n",
    "                date = date_scrape[0]\n",
    "                time = date_scrape[1]\n",
    "\n",
    "            ticker = file_name.split('_')[0]\n",
    "        \n",
    "            parsed_news.append([ticker, date, time, text])\n",
    "    return parsed_news"
   ]
  },
  {
   "cell_type": "code",
   "execution_count": 26,
   "metadata": {},
   "outputs": [
    {
     "name": "stdout",
     "output_type": "stream",
     "text": [
      "\n",
      "\n",
      "Recent News Headlines for PFE: \n",
      "AstraZeneca Covid Vaccine Appears Effective Against Brazil Variant: Report ( Mar-05-21 04:35PM )\n",
      "U.S. Pushes to Reopen; Canada Clears J&J Vaccine: Virus Update ( 04:08PM )\n",
      "Money worries are holding people back from getting the vaccine ( 02:13PM )\n",
      "\n",
      "\n",
      "Recent News Headlines for MRNA: \n",
      "AstraZeneca Covid Vaccine Appears Effective Against Brazil Variant: Report ( Mar-05-21 04:35PM )\n",
      "Money worries are holding people back from getting the vaccine ( 02:13PM )\n",
      "Doctor: We may be reaching that critical point of herd immunity ( 02:11PM )\n",
      "\n",
      "\n",
      "Recent News Headlines for AZN: \n",
      "AstraZeneca Covid Vaccine Appears Effective Against Brazil Variant: Report ( Mar-05-21 04:35PM )\n",
      "U.S. Pushes to Reopen; Canada Clears J&J Vaccine: Virus Update ( 04:08PM )\n",
      "Money worries are holding people back from getting the vaccine ( 02:13PM )\n",
      "\n",
      "\n",
      "Recent News Headlines for JNJ: \n",
      "AstraZeneca Covid Vaccine Appears Effective Against Brazil Variant: Report ( Mar-05-21 04:35PM )\n",
      "U.S. Pushes to Reopen; Canada Clears J&J Vaccine: Virus Update ( 04:08PM )\n",
      "Money worries are holding people back from getting the vaccine ( 02:13PM )\n",
      "\n",
      "\n",
      "Recent News Headlines for AAPL: \n",
      "Why Google Stock Is Holding Up Better Than Apple, Facebook, Amazon, Netflix ( Mar-05-21 04:39PM )\n",
      "Best Dow Jones Stocks To Buy And Watch In March 2021: Apple Rebounds ( 03:06PM )\n",
      "Biden Sets Stage for Tech Crackdown With White House Adviser Wu ( 02:36PM )\n",
      "\n",
      "\n",
      "Recent News Headlines for GOOGL: \n",
      "Why Google Stock Is Holding Up Better Than Apple, Facebook, Amazon, Netflix ( Mar-05-21 04:39PM )\n",
      "A Comprehensive Guide to Cloud Computing ETFs ( 04:17PM )\n",
      "Biden Sets Stage for Tech Crackdown With White House Adviser Wu ( 02:36PM )\n",
      "\n",
      "\n",
      "Recent News Headlines for AMZN: \n",
      "Why Google Stock Is Holding Up Better Than Apple, Facebook, Amazon, Netflix ( Mar-05-21 04:39PM )\n",
      "Brazil Rescues 66 Charcoal Workers From Slave-Like Conditions ( 03:32PM )\n",
      "Biden Sets Stage for Tech Crackdown With White House Adviser Wu ( 02:36PM )\n",
      "\n",
      "\n",
      "Recent News Headlines for MSFT: \n",
      "Microsoft Stock Has Been Flat for 6 Months. Why It Could Be Time to Jump Aboard. ( Mar-05-21 03:28PM )\n",
      "Tech Stocks Escape From Correction Territory, but Rising Rates Keep the Pressure On ( 02:51PM )\n",
      "UPDATE 1-White House says Microsoft email hackers have 'large number of victims' ( 02:05PM )\n",
      "\n",
      "\n",
      "Recent News Headlines for FB: \n",
      "Why Google Stock Is Holding Up Better Than Apple, Facebook, Amazon, Netflix ( Mar-05-21 04:39PM )\n",
      "Biden Sets Stage for Tech Crackdown With White House Adviser Wu ( 02:36PM )\n",
      "Companies declared Black lives matter last year, and now theyre being asked to prove it ( 02:36PM )\n"
     ]
    }
   ],
   "source": [
    "# storing news for both in separate list\n",
    "pharma_news = get_data(pharma_tickers)\n",
    "tech_news = get_data(tech_tickers)"
   ]
  },
  {
   "cell_type": "code",
   "execution_count": 27,
   "metadata": {},
   "outputs": [],
   "source": [
    "# NLTK VADER for sentiment analysis\n",
    "# New words and values\n",
    "new_words = {\n",
    "    'crushes': 10,\n",
    "    'beats': 5,\n",
    "    'misses': -5,\n",
    "    'trouble': -10,\n",
    "    'falls': -100,\n",
    "    'fail': -50\n",
    "}\n",
    "# Instantiate the sentiment intensity analyzer with the existing lexicon\n",
    "vader = SentimentIntensityAnalyzer()\n",
    "# Update the lexicon\n",
    "vader.lexicon.update(new_words)"
   ]
  },
  {
   "cell_type": "code",
   "execution_count": 28,
   "metadata": {},
   "outputs": [],
   "source": [
    "def score_news(parsed_news):\n",
    "\n",
    "# Use these column names\n",
    "    columns = ['ticker', 'date', 'time', 'headline']\n",
    "# Convert the list of lists into a DataFrame\n",
    "    scored_news = pd.DataFrame(parsed_news, columns=columns)\n",
    "# Iterate through the headlines and get the polarity scores\n",
    "    scores = [vader.polarity_scores(headline) for headline in scored_news.headline.values]\n",
    "# Convert the list of dicts into a DataFrame\n",
    "    scores_df = pd.DataFrame(scores)\n",
    "# Join the DataFrames\n",
    "    scored_news = pd.concat([scored_news, scores_df], axis=1)\n",
    "# Convert the date column from string to datetime\n",
    "    scored_news['date'] = pd.to_datetime(scored_news.date).dt.date\n",
    "    return scored_news"
   ]
  },
  {
   "cell_type": "code",
   "execution_count": 29,
   "metadata": {},
   "outputs": [],
   "source": [
    "pharma_score_news = score_news(pharma_news)\n",
    "tech_score_news = score_news(tech_news)"
   ]
  },
  {
   "cell_type": "code",
   "execution_count": 30,
   "metadata": {},
   "outputs": [],
   "source": [
    "def draw_plot(scored_news):\n",
    "    import matplotlib.pyplot as plt\n",
    "    plt.style.use(\"fivethirtyeight\")\n",
    "    %matplotlib inline\n",
    "\n",
    "# Group by date and ticker columns from scored_news and calculate the mean\n",
    "    mean_c = scored_news.groupby(['date', 'ticker']).mean()\n",
    "# Unstack the column ticker\n",
    "    mean_c = mean_c.unstack(level=1)\n",
    "# Get the cross-section of compound in the 'columns' axis\n",
    "    mean_c = mean_c.xs('compound', axis=1)\n",
    "# Plot a bar chart with pandas\n",
    "    mean_c.plot.bar();"
   ]
  },
  {
   "cell_type": "code",
   "execution_count": 31,
   "metadata": {},
   "outputs": [
    {
     "data": {
      "image/png": "[encoded data removed]",
      "text/plain": [
       "<Figure size 432x288 with 1 Axes>"
      ]
     },
     "metadata": {
      "needs_background": "light"
     },
     "output_type": "display_data"
    }
   ],
   "source": [
    "# drawing plot for pharma\n",
    "draw_plot(pharma_score_news)"
   ]
  },
  {
   "cell_type": "code",
   "execution_count": 32,
   "metadata": {},
   "outputs": [
    {
     "data": {
      "image/png": "[encoded data removed]",
      "text/plain": [
       "<Figure size 432x288 with 1 Axes>"
      ]
     },
     "metadata": {
      "needs_background": "light"
     },
     "output_type": "display_data"
    }
   ],
   "source": [
    "# drawing plot for tech\n",
    "draw_plot(tech_score_news)"
   ]
  },
  {
   "cell_type": "code",
   "execution_count": 33,
   "metadata": {},
   "outputs": [],
   "source": [
    "def clean_dups(scored_news):\n",
    "# Count the number of headlines in scored_news (store as integer)\n",
    "    num_news_before = scored_news.headline.count()\n",
    "# Drop duplicates based on ticker and headline\n",
    "    scored_news_clean = scored_news.drop_duplicates(['ticker', 'headline'])\n",
    "# Count number of headlines after dropping duplicates\n",
    "    num_news_after = scored_news_clean.headline.count()\n",
    "# Compare before and after\n",
    "    return scored_news_clean"
   ]
  },
  {
   "cell_type": "code",
   "execution_count": 34,
   "metadata": {},
   "outputs": [],
   "source": [
    "pharma_score_news = clean_dups(pharma_score_news)"
   ]
  },
  {
   "cell_type": "code",
   "execution_count": 35,
   "metadata": {},
   "outputs": [],
   "source": [
    "tech_score_news = clean_dups(tech_score_news)"
   ]
  },
  {
   "cell_type": "code",
   "execution_count": 45,
   "metadata": {},
   "outputs": [],
   "source": [
    "def single_day_score(scored_news_clean,ticker):\n",
    "# Set the index to ticker and date\n",
    "    single_day = scored_news_clean.set_index(['ticker', 'date'])\n",
    "#print(single_day)\n",
    "# Cross-section the fb row\n",
    "    single_day = single_day.loc[ticker]\n",
    "#print(single_day)\n",
    "# Select today\n",
    "    single_day = single_day.loc['2021-03-05']\n",
    "#print(single_day)\n",
    "# Convert the datetime string to just the time\n",
    "    single_day['time'] = pd.to_datetime(single_day['time'])\n",
    "    single_day['time'] = single_day.time.dt.time\n",
    "#print(single_day)\n",
    "#print(single_day.shape)\n",
    "# Set the index to time and sort by it\n",
    "    single_day.set_index('time', inplace=True)\n",
    "    single_day=single_day.sort_index(ascending=True)\n",
    "    return single_day"
   ]
  },
  {
   "cell_type": "code",
   "execution_count": 46,
   "metadata": {},
   "outputs": [],
   "source": [
    "pharma_single_day = single_day_score(pharma_score_news,'MRNA')\n",
    "tech_single_day = single_day_score(tech_score_news,'AAPL')"
   ]
  },
  {
   "cell_type": "code",
   "execution_count": 47,
   "metadata": {},
   "outputs": [],
   "source": [
    "def draw_plot_singleday(single_day):\n",
    "    TITLE = \"Positive, negative and neutral sentiment\"\n",
    "    COLORS = [\"red\", \"green\", \"orange\"]\n",
    "# Drop the columns that aren't useful for the plot\n",
    "    plot_day = single_day.drop(['headline', 'compound'], axis=1)\n",
    "# Change the column names to 'negative', 'positive', and 'neutral'\n",
    "    plot_day.columns = ['negative', 'positive', 'neutral']\n",
    "# Plot a stacked bar chart\n",
    "    plot_day.plot.bar(stacked = True, \n",
    "                  figsize=(10, 6), \n",
    "                  title = TITLE, \n",
    "                  color = COLORS)\n",
    "    plt.legend(bbox_to_anchor=(1.2, 0.5))\n",
    "    plt.ylabel(\"scores\");"
   ]
  },
  {
   "cell_type": "markdown",
   "metadata": {},
   "source": [
    "## Pharma sentiment"
   ]
  },
  {
   "cell_type": "code",
   "execution_count": 48,
   "metadata": {},
   "outputs": [
    {
     "data": {
      "image/png": "[encoded data removed]",
      "text/plain": [
       "<Figure size 720x432 with 1 Axes>"
      ]
     },
     "metadata": {
      "needs_background": "light"
     },
     "output_type": "display_data"
    }
   ],
   "source": [
    "draw_plot_singleday(pharma_single_day)"
   ]
  },
  {
   "cell_type": "markdown",
   "metadata": {},
   "source": [
    "## Tech sentiment"
   ]
  },
  {
   "cell_type": "code",
   "execution_count": 49,
   "metadata": {},
   "outputs": [
    {
     "data": {
      "image/png": "[encoded data removed]",
      "text/plain": [
       "<Figure size 720x432 with 1 Axes>"
      ]
     },
     "metadata": {
      "needs_background": "light"
     },
     "output_type": "display_data"
    }
   ],
   "source": [
    "draw_plot_singleday(tech_single_day)"
   ]
  },
  {
   "cell_type": "markdown",
   "metadata": {},
   "source": [
    "## With Sentiment analsysis collect Up-to-date Financial Ratios from FinViz "
   ]
  },
  {
   "cell_type": "code",
   "execution_count": 41,
   "metadata": {},
   "outputs": [],
   "source": [
    "import pandas as pd\n",
    "import re\n",
    "from bs4 import BeautifulSoup as bs\n",
    "import requests\n",
    "import requests\n",
    "from bs4 import BeautifulSoup\n",
    "headers = {'User-Agent': 'Mozilla/5.0 (Windows NT 6.1) AppleWebKit/537.36 (KHTML, like Gecko) Chrome/58.0.3029.110 Safari/537.36',\n",
    "          'Upgrade-Insecure-Requests': '1', 'Cookie': 'v2=1495343816.182.19.234.142', 'Accept-Encoding': 'gzip, deflate, sdch',\n",
    "           'Referer': \"http://finviz.com/quote.ashx?t=\"}\n",
    "\n",
    "def get_fundamental_data(df):\n",
    "    for symbol in df.index:\n",
    "        try:      \n",
    "            #url = (\"http://finviz.com/quote.ashx?t=\" + symbol.lower())\n",
    "            r = requests.get(\"http://finviz.com/quote.ashx?t=\"+ symbol.lower(),headers=headers)\n",
    "            soup = bs(r.content,'html.parser') \n",
    "            for m in df.columns:                \n",
    "                df.loc[symbol,m] = fundamental_metric(soup,m)                \n",
    "        except Exception as e:\n",
    "            print (symbol, 'not found')\n",
    "            print(e)\n",
    "    return df\n",
    "\n",
    "\n",
    "def fundamental_metric(soup, metric):\n",
    "    return soup.find(text=metric).find_next(class_='snapshot-td2').text"
   ]
  },
  {
   "cell_type": "code",
   "execution_count": 42,
   "metadata": {},
   "outputs": [],
   "source": [
    "stock_list = ['PFE', 'MRNA', 'AZN','AAPL', 'GOOGL', 'AMZN']"
   ]
  },
  {
   "cell_type": "code",
   "execution_count": 43,
   "metadata": {},
   "outputs": [],
   "source": [
    "metric = [\n",
    "'Market Cap',\n",
    "'Income',\n",
    "'Perf Month',\n",
    "'Perf Year',\n",
    "'52W Range',\n",
    "'Avg Volume',\n",
    "'P/B',\n",
    "'P/E',\n",
    "'Forward P/E',\n",
    "'PEG',\n",
    "'Debt/Eq',\n",
    "'EPS (ttm)',\n",
    "'Dividend %',\n",
    "'ROE',\n",
    "'ROI',\n",
    "'EPS Q/Q',\n",
    "'Insider Own'\n",
    "]"
   ]
  },
  {
   "cell_type": "code",
   "execution_count": 44,
   "metadata": {},
   "outputs": [
    {
     "data": {
      "text/html": [
       "<div>\n",
       "<style scoped>\n",
       "    .dataframe tbody tr th:only-of-type {\n",
       "        vertical-align: middle;\n",
       "    }\n",
       "\n",
       "    .dataframe tbody tr th {\n",
       "        vertical-align: top;\n",
       "    }\n",
       "\n",
       "    .dataframe thead th {\n",
       "        text-align: right;\n",
       "    }\n",
       "</style>\n",
       "<table border=\"1\" class=\"dataframe\">\n",
       "  <thead>\n",
       "    <tr style=\"text-align: right;\">\n",
       "      <th></th>\n",
       "      <th>Market Cap</th>\n",
       "      <th>Income</th>\n",
       "      <th>Perf Month</th>\n",
       "      <th>Perf Year</th>\n",
       "      <th>52W Range</th>\n",
       "      <th>Avg Volume</th>\n",
       "      <th>P/B</th>\n",
       "      <th>P/E</th>\n",
       "      <th>Forward P/E</th>\n",
       "      <th>PEG</th>\n",
       "      <th>Debt/Eq</th>\n",
       "      <th>EPS (ttm)</th>\n",
       "      <th>Dividend %</th>\n",
       "      <th>ROE</th>\n",
       "      <th>ROI</th>\n",
       "      <th>EPS Q/Q</th>\n",
       "      <th>Insider Own</th>\n",
       "    </tr>\n",
       "  </thead>\n",
       "  <tbody>\n",
       "    <tr>\n",
       "      <th>PFE</th>\n",
       "      <td>192.02B</td>\n",
       "      <td>9.36B</td>\n",
       "      <td>-2.26%</td>\n",
       "      <td>-0.86%</td>\n",
       "      <td>26.42 - 43.08</td>\n",
       "      <td>40.09M</td>\n",
       "      <td>2.92</td>\n",
       "      <td>20.54</td>\n",
       "      <td>11.16</td>\n",
       "      <td>3.05</td>\n",
       "      <td>0.63</td>\n",
       "      <td>1.67</td>\n",
       "      <td>4.56%</td>\n",
       "      <td>14.90%</td>\n",
       "      <td>7.60%</td>\n",
       "      <td>125.10%</td>\n",
       "      <td>0.05%</td>\n",
       "    </tr>\n",
       "    <tr>\n",
       "      <th>MRNA</th>\n",
       "      <td>50.18B</td>\n",
       "      <td>-747.10M</td>\n",
       "      <td>-16.57%</td>\n",
       "      <td>381.27%</td>\n",
       "      <td>19.31 - 189.26</td>\n",
       "      <td>18.40M</td>\n",
       "      <td>18.93</td>\n",
       "      <td>-</td>\n",
       "      <td>9.72</td>\n",
       "      <td>-</td>\n",
       "      <td>0.04</td>\n",
       "      <td>-1.94</td>\n",
       "      <td>-</td>\n",
       "      <td>-22.90%</td>\n",
       "      <td>-44.90%</td>\n",
       "      <td>-58.90%</td>\n",
       "      <td>2.00%</td>\n",
       "    </tr>\n",
       "    <tr>\n",
       "      <th>AZN</th>\n",
       "      <td>127.02B</td>\n",
       "      <td>3.20B</td>\n",
       "      <td>-5.65%</td>\n",
       "      <td>-2.82%</td>\n",
       "      <td>36.15 - 64.94</td>\n",
       "      <td>12.69M</td>\n",
       "      <td>7.94</td>\n",
       "      <td>38.81</td>\n",
       "      <td>14.74</td>\n",
       "      <td>1.92</td>\n",
       "      <td>1.30</td>\n",
       "      <td>1.22</td>\n",
       "      <td>2.96%</td>\n",
       "      <td>25.10%</td>\n",
       "      <td>12.20%</td>\n",
       "      <td>223.30%</td>\n",
       "      <td>0.50%</td>\n",
       "    </tr>\n",
       "    <tr>\n",
       "      <th>AAPL</th>\n",
       "      <td>2012.26B</td>\n",
       "      <td>63.93B</td>\n",
       "      <td>-11.01%</td>\n",
       "      <td>58.72%</td>\n",
       "      <td>53.15 - 145.09</td>\n",
       "      <td>108.89M</td>\n",
       "      <td>30.72</td>\n",
       "      <td>32.48</td>\n",
       "      <td>25.66</td>\n",
       "      <td>2.21</td>\n",
       "      <td>1.69</td>\n",
       "      <td>3.70</td>\n",
       "      <td>0.68%</td>\n",
       "      <td>90.60%</td>\n",
       "      <td>31.70%</td>\n",
       "      <td>34.60%</td>\n",
       "      <td>0.07%</td>\n",
       "    </tr>\n",
       "    <tr>\n",
       "      <th>GOOGL</th>\n",
       "      <td>1372.19B</td>\n",
       "      <td>40.27B</td>\n",
       "      <td>5.98%</td>\n",
       "      <td>47.22%</td>\n",
       "      <td>1008.87 - 2145.14</td>\n",
       "      <td>1.75M</td>\n",
       "      <td>6.17</td>\n",
       "      <td>35.64</td>\n",
       "      <td>25.05</td>\n",
       "      <td>2.10</td>\n",
       "      <td>0.07</td>\n",
       "      <td>57.07</td>\n",
       "      <td>-</td>\n",
       "      <td>19.00%</td>\n",
       "      <td>14.10%</td>\n",
       "      <td>34.70%</td>\n",
       "      <td>0.12%</td>\n",
       "    </tr>\n",
       "    <tr>\n",
       "      <th>AMZN</th>\n",
       "      <td>1482.06B</td>\n",
       "      <td>21.33B</td>\n",
       "      <td>-11.91%</td>\n",
       "      <td>50.70%</td>\n",
       "      <td>1626.03 - 3552.25</td>\n",
       "      <td>3.71M</td>\n",
       "      <td>15.94</td>\n",
       "      <td>71.31</td>\n",
       "      <td>44.93</td>\n",
       "      <td>1.86</td>\n",
       "      <td>0.55</td>\n",
       "      <td>41.75</td>\n",
       "      <td>-</td>\n",
       "      <td>27.10%</td>\n",
       "      <td>13.90%</td>\n",
       "      <td>117.50%</td>\n",
       "      <td>10.60%</td>\n",
       "    </tr>\n",
       "  </tbody>\n",
       "</table>\n",
       "</div>"
      ],
      "text/plain": [
       "      Market Cap    Income Perf Month Perf Year          52W Range Avg Volume  \\\n",
       "PFE      192.02B     9.36B     -2.26%    -0.86%      26.42 - 43.08     40.09M   \n",
       "MRNA      50.18B  -747.10M    -16.57%   381.27%     19.31 - 189.26     18.40M   \n",
       "AZN      127.02B     3.20B     -5.65%    -2.82%      36.15 - 64.94     12.69M   \n",
       "AAPL    2012.26B    63.93B    -11.01%    58.72%     53.15 - 145.09    108.89M   \n",
       "GOOGL   1372.19B    40.27B      5.98%    47.22%  1008.87 - 2145.14      1.75M   \n",
       "AMZN    1482.06B    21.33B    -11.91%    50.70%  1626.03 - 3552.25      3.71M   \n",
       "\n",
       "         P/B    P/E Forward P/E   PEG Debt/Eq EPS (ttm) Dividend %      ROE  \\\n",
       "PFE     2.92  20.54       11.16  3.05    0.63      1.67      4.56%   14.90%   \n",
       "MRNA   18.93      -        9.72     -    0.04     -1.94          -  -22.90%   \n",
       "AZN     7.94  38.81       14.74  1.92    1.30      1.22      2.96%   25.10%   \n",
       "AAPL   30.72  32.48       25.66  2.21    1.69      3.70      0.68%   90.60%   \n",
       "GOOGL   6.17  35.64       25.05  2.10    0.07     57.07          -   19.00%   \n",
       "AMZN   15.94  71.31       44.93  1.86    0.55     41.75          -   27.10%   \n",
       "\n",
       "           ROI  EPS Q/Q Insider Own  \n",
       "PFE      7.60%  125.10%       0.05%  \n",
       "MRNA   -44.90%  -58.90%       2.00%  \n",
       "AZN     12.20%  223.30%       0.50%  \n",
       "AAPL    31.70%   34.60%       0.07%  \n",
       "GOOGL   14.10%   34.70%       0.12%  \n",
       "AMZN    13.90%  117.50%      10.60%  "
      ]
     },
     "execution_count": 44,
     "metadata": {},
     "output_type": "execute_result"
    }
   ],
   "source": [
    "df_fundamental_data = pd.DataFrame(index=stock_list,columns=metric)\n",
    "df_fundamental_data = get_fundamental_data(df_fundamental_data)\n",
    "df_fundamental_data"
   ]
  },
  {
   "cell_type": "markdown",
   "metadata": {},
   "source": [
    "## Feature extraction \n",
    "\n",
    "Feature extraction or sometimes called attribute selection aim to select features, attributes, or piece of text that is more relevant to the prediction task. Many methods have been used for feature selection. The commonly used feature selection procedure for document or sentence classification task is the bag-of-words (BOW) approach"
   ]
  },
  {
   "cell_type": "markdown",
   "metadata": {},
   "source": [
    "Another important feature selection method is the latent Dirichlet allocation (LDA) technique. In the LDA model, the text is viewed as probabilistic collections of terms or words, and the collections are then treated as selected features. Other methods used a Skip-Gram model that aims to predict the context word (surrounding words) for a given target word. However, feature selection is a crucial step in the textual data preprocessing."
   ]
  },
  {
   "cell_type": "markdown",
   "metadata": {},
   "source": [
    "Another popular method used in text mining for financial application is the term frequency-inverse document frequency (TF-IDF), which is a numeric value that represents the significance of a word for a document or corpus "
   ]
  },
  {
   "cell_type": "markdown",
   "metadata": {},
   "source": [
    "## Model evaluation - ( part 3 )"
   ]
  },
  {
   "cell_type": "markdown",
   "metadata": {},
   "source": [
    "From the news list i created a file to label them as positive or negetive news headline"
   ]
  },
  {
   "cell_type": "code",
   "execution_count": 170,
   "metadata": {},
   "outputs": [],
   "source": [
    "with open('tech_news_file.txt', 'w') as f:\n",
    "    for i in range(len(tech_news)):\n",
    "        txt = tech_news[i][3]\n",
    "        f.write(\"%s\\n\" % txt)"
   ]
  },
  {
   "cell_type": "markdown",
   "metadata": {},
   "source": [
    "In the file each news headline has been marked as pos or neg "
   ]
  },
  {
   "cell_type": "code",
   "execution_count": 190,
   "metadata": {},
   "outputs": [
    {
     "name": "stdout",
     "output_type": "stream",
     "text": [
      "pos|Apple Supplier Dialog Semi Holds Talks With Suitors Including Renesas\n",
      "pos|Dow Jones Futures: Congress Fast Tracks Biden Stimulus; Market Rally Warning Signs\n",
      "neg|10 Biggest Companies Competing With Netflix\n",
      "pos|20 Fastest Growing Tech Cities in the World\n",
      "pos|15 Biggest Canadian Software Companies\n",
      "pos|3 Warren Buffett Stocks Worth Buying Now\n",
      "neg|Dow Jones Futures: Coronavirus Vaccinations Hit Milestone; Market Rally Warning Signs\n",
      "pos|Dow Jones Futures: Congress Fast Tracks Biden Stimulus Plan, Coronavirus Vaccinations Hit Milestone; Market Rally Warning Signs\n",
      "pos|Top Apple Shareholders\n",
      "pos|These Are The Best Robinhood Stocks To Buy Or Watch Now\n",
      "pos|From Netflix's 'Queen's Gambit' to HBO's 'Undoing,' here's how the miniseries is leading TVs revolution\n",
      "pos|Dow Jones Stocks To Buy And Watch In February 2021: AAPL Rallies On Apple Car Buzz\n",
      "pos|Where to Look for the Best Electric-Vehicle Stocks Now\n",
      "neg|Forget AMC! These Tech Stocks Are Better Buys Right Now\n",
      "pos|Better Buy: Apple vs. Alphabet\n",
      "pos|At $2.5 Trillion, Can Apple Get Much Bigger?\n",
      "neg|Amid Stock Frenzy, Bonds Send Message: Inflation Is Coming\n",
      "pos|Snap and Pinterest Both Posted Solid Earnings. Heres What Wall Street Is Saying.\n",
      "pos|The Wonderful World of EVs: Stocks You Need To Be Watching\n",
      "neg|Apple Talks With Hyundai, Kia on Electric Car Paused Recently\n",
      "pos|RPT: Apple in talks to build autonomous EV with Kia\n",
      "neg|Avoiding The Apple Stock Earnings Drawdown\n",
      "neg|Chip Shortage Spirals Beyond Cars to Phones and Game Consoles\n",
      "pos|10 Best Technology Stocks That Pay Dividends\n",
      "pos|Dow Jones Rallies As J&J Stock Gains, Senate OKs Biden's Stimulus Bill\n",
      "pos|Is Apple Stock A Buy Amid Growing Apple Car Speculation?\n",
      "pos|Apple Talks With Hyundai-Kia Paused: Report\n",
      "neg|Facebook Faces Apple-Related Headwinds in 2021\n",
      "neg|Facebook hates Apple's new privacy feature  here's how App Tracking Transparency works\n",
      "pos|Will Apple Hit a $3 Trillion Market Cap in 2021?\n",
      "pos|Why Apple could be Tesla's fiercest rival in the EV game\n",
      "pos|Can Apple Beat Facebook in VR and AR?\n",
      "neg|Peloton President: 'We see light at the end of the tunnel' on bike delays\n",
      "pos|How Apple (AAPL) Stock Stands Out in a Strong Industry\n",
      "neg|Snap (SNAP) Sharply Lower After Q1 Profit Warning\n",
      "pos|Snap Jumps 5% After Wall Street Cheers Mixed Results\n",
      "pos|15 Fastest Growing Developing Countries in 2020\n",
      "neg|Apple Is Still Mostly an iPhone Company. That's Becoming a Problem.\n",
      "pos|Does Skyworks Solutions Stand to Gain From Apples Success?\n",
      "neg|Snap Faces A Challenging 1Q; Shares Drop 7.5% After-Hours\n",
      "neg|Apple VR headset revealed in more detail as rumours suggest it could include vast numbers of cameras  and even bigger price\n",
      "neg|Apple's VR Device To Cost $3,000 And Feature Changeable Headbands: Report\n",
      "pos|Apple Car Reports Fuel Speculation of Kia or Japan Carmaker Deal\n",
      "neg|Apples privacy changes are affecting more than just Facebook\n",
      "pos|Watch Out Tesla, Is That Apple in the Rear View Mirror?\n",
      "pos|Top 10 S&P 500 Stocks by Index Weight\n",
      "neg|Snap Shares Slide on Risks to Momentum Even as Sales Jump\n",
      "neg|Snaps Great Q4 Overshadowed By Mixed Guidance\n",
      "neg|Snap Stock Falls After Company Warns of Disruptions in 2021\n",
      "pos|T-Mobile Beat Earnings Estimates, but Guidance Fell Short, Nipping the Stock\n",
      "neg|Peloton Cant Keep Up With Demand; Profit to Be Squeezed\n",
      "pos|Rhode Island senator calls for carbon tax, urges 'Corporate America to show up'\n",
      "neg|Peloton Earnings Surge As Paid Digital Subscriptions Skyrocket, But PTON Stock Falls\n",
      "pos|Dow Rallies As Bulls Charge; GameStop Dives Again Amid Yellen Focus; Apple Stock Rises\n",
      "pos|Dow Jones Jumps 250 Points, Led By Surging American Express Stock; Align Technology, eBay, PayPal Soar on Earnings\n",
      "pos|Dow Rallies As House Clears Way For Stimulus; Apple Jumps On Car Buzz, While GME Stock Crumbles 37%\n",
      "pos|Expect a Rally in EV ETFs on a Likely Apple-Hyundai Deal\n",
      "neg|Sen. Klobuchar introduces antitrust bill that would challenge big tech mergers\n",
      "neg|Its Halftime for Earnings, but It Hasnt Been a Blowout\n",
      "pos|15 Largest Law Firms in the World\n",
      "neg|The dark side of the GameStop bubble: Driving stock prices to the moon can hurt America\n",
      "pos|Google Explores Alternative to Apples New Anti-Tracking Feature\n",
      "pos|12 Most Influential Chinese Entrepreneurs\n",
      "pos|Google phone cameras will read heart, breathing rates with AI help\n",
      "pos|The Zacks Analyst Blog Highlights: Apple, Microsoft, Facebook, Texas Instruments and QUALCOMM\n",
      "pos|Zacks Industry Outlook Highlights: Apple, HP and Lenovo\n",
      "pos|Why Shares of Electric-Vehicle Maker Canoo Jumped This Morning\n",
      "pos|Apple Shows Why It's a Must-Own Stock for the Future\n",
      "pos|Dow Jones Today Leads Stocks Higher Amid EBay, PayPal Earnings, Stimulus Progress, Apple EV Buzz\n",
      "pos|Apple, Hyatt Hotels, QUALCOMM, eBay and PayPal highlighted as Zacks Bull and Bear of the Day\n",
      "neg|Here's Why Facebook Could Be in Trouble, Even as Other Digital Advertisers Are Surging\n",
      "pos|Where Will Apple Stock Be in 5 Years?\n",
      "pos|What new Amazon CEO Andy Jassy needs to do to become a leader in sustainability like Apple\n",
      "neg|Influencers with Andy Serwer: Irina Novoselsky\n",
      "pos|Bull of the Day: Apple (AAPL)\n",
      "pos|The Zacks Analyst Blog Highlights: Netflix, Apple, Amazon and Comcast\n",
      "pos|Peloton Expected to Report Third-Straight Quarterly Profit, and Two More Numbers to Know\n",
      "pos|Apples adult filters stop iPhone users Googling the word Asian\n",
      "pos|Apple Extends Gains as Investors Test-Drive Apple Car Concept\n",
      "pos|Qualcomm Warning Shows Semiconductor Shortages Are Spreading\n",
      "pos|Sony Surges to 20-Year High as IPhone, Games Spur Outlook Hike\n",
      "pos|Apple may build a fully autonomous electric car with Hyundai-Kia: report\n",
      "pos|Dow Jones Futures: Stock Market Rally Holds Gains As Biden Floats Stimulus Compromise; Apple Chipmakers Tumble Late, eBay Breaks Out\n",
      "neg|Qualcomm Stock Falls After Results Fail to Impress. Heres What Happened.\n",
      "pos|Qorvo beats fiscal Q3 views, guides for more than $1 billion in sales in Q4\n",
      "pos|Apple Car Manufacturing Partner Picked For 2024 Launch: Report\n",
      "pos|Netflix, Amazon, Hulu flex muscles for Golden Globes, underscore Hollywood's streaming shift\n",
      "pos|Jim Cramer: These Companies Are the Lombardi Trophy Winners of Business\n",
      "pos|Heres how the FAANG companies stack up this earnings season\n",
      "pos|Amazon.coms CEO Change Is Huge News. Wall Street Isnt Worried.\n",
      "pos|Biden must insist that all multinationals be taxed, not just U.S. tech giants\n",
      "pos|Report: Kia to Build Apple's Electric Car in Georgia in 2024\n",
      "pos|Dow Erases Losses, As GME Stock Rebounds; Alphabet, Amazon Move On Earnings, While Spotify Dives\n",
      "pos|15 Best Innovative Stocks To Buy According To Hedge Funds\n",
      "pos|15 Biggest Corporate Fines in History\n",
      "pos|The Zacks Analyst Blog Highlights: Skyworks, Apple, Qorvo, Jabil and Synaptics\n",
      "pos|The Zacks Analyst Blog Highlights: Apple, Goldman Sachs, Microsoft, The Travelers Companies and Intel\n",
      "pos|Apple Just Tapped the Debt Market to Raise $14 Billion\n",
      "pos|Jeff Bezos Walks Through a One-Way Door, Opening a New Age for Amazon\n",
      "pos|Apple (AAPL) Reducing iPad, iPhone Manufacturing in China\n",
      "pos|3 Top Artificial Intelligence Stocks to Buy Now\n",
      "pos|15 Biggest Canadian Software Companies\n",
      "neg|Where Will fuboTV Be in 5 Years?\n",
      "pos|What's Going On With Chevron and ExxonMobil?\n",
      "pos|Better Buy: Apple vs. Alphabet\n",
      "neg|Reddit Has Gone Stock Crazy! Here Are 3 Stocks for New Investors\n",
      "pos|2 Healthcare IPOs to Watch in 2021\n",
      "pos|Jeff Bezos Might Be the Best CEO Ever. Why Amazon Will Be Fine Without Him.\n",
      "pos|Stock Market Rally Hits Highs Amid Google Earnings, Stimulus Hopes; GameStop, Reddit Plays Plunge, Jeff Bezos Exits As Amazon CEO\n",
      "pos|How Google (Alphabet) Makes Money\n",
      "pos|Maplelanes Top 10 Stock Holdings\n",
      "neg|4 Overvalued Stocks To Avoid For Now\n",
      "pos|Top Stock Reports for Alphabet, Pfizer & Uber\n",
      "pos|Twitter Signs a Larger Deal With Alphabet's Google Cloud\n",
      "pos|How YouTube, Cloud, and Hardware Drove Alphabet Stock to an All-Time High\n",
      "pos|15 Fastest Growing Developing Countries in 2020\n",
      "pos|As Bezos Steps Back, Will Amazon Be A 'Kinder, Gentler' Behemoth?\n",
      "pos|Google Will Use Some Offices as Coronavirus Vaccine Sites\n",
      "pos|Google Rolls Out Paid News Showcase Platform To Bypass Australia Content Law\n",
      "pos|Kuaishou Surges 161% In Biggest Technology IPO Since Uber\n",
      "pos|Google Pixel phones can now measure heart and breathing rates with its camera\n",
      "pos|Google opens paid-for Australia news platform in drive to undercut Canberra's content payment law\n",
      "pos|Google opens paid-for Australia news platform in drive to derail Canberra's content payment law\n",
      "pos|3 Top Stocks You Can Buy and Hold for the Next Decade\n",
      "pos|Top 10 S&P 500 Stocks by Index Weight\n",
      "neg|Fox News Faces $2.7 Billion Lawsuit Over Voting Machine Fraud Claims\n",
      "pos|Kuaishou Shares Triple in Hong Kong Debut\n",
      "neg|How a Dated Cyber-Attack Brought a Stock Exchange to its Knees\n",
      "pos|Ford More Than Doubles EV, Self-Driving Investment As Earnings Crush; Chip Shortage To Bite\n",
      "neg|Strong Get Stronger: Alphabet Composite Rating Improves To 98\n",
      "pos|Alphabet's Google Phones to Use Artificial Intelligence to Measure Pulse and Breathing\n",
      "pos|Rhode Island senator calls for carbon tax, urges 'Corporate America to show up'\n",
      "pos|Twitter, Google Cloud announce multi-year strategic partnership\n",
      "pos|Will Google ETFs Keep Shining on Q4 Earnings Optimism?\n",
      "pos|Alphabet Union Alleges Contract Workers Were Silenced About Pay\n",
      "neg|Texas court considers hearing on changing venue of Google antitrust case\n",
      "neg|Texas court considers hearing on changing venue of Google antitrust case\n",
      "neg|Odds Are This Fund Topped Yours  Without FAANG Stocks like Amazon, Apple and Netflix\n",
      "neg|Sen. Klobuchar introduces antitrust bill that would challenge big tech mergers\n",
      "pos|15 Largest Law Firms in the World\n",
      "pos|Google Explores Alternative to Apples New Anti-Tracking Feature\n",
      "neg|How Risky Is Mastercard?\n",
      "pos|Google phone cameras will read heart, breathing rates with AI help\n",
      "Here's Why Facebook Could Be in Trouble, Even as Other Digital Advertisers Are Surging\n",
      "neg|ro-China Accounts Use Capitol Riot Footage to Condemn Democracy\n",
      "neg|Influencers with Andy Serwer: Irina Novoselsky\n",
      "neg|15 Countries With The Highest Corporate Tax Rates\n",
      "pos|Zacks Earnings Trends Highlights: Apple, Amazon, Google, Microsoft and Facebook\n",
      "neg|Klobuchar bill would help U.S. antitrust enforcers stop mergers\n",
      "pos|Australian drone firm reshapes strategy over Google pull-out threat\n",
      "pos|Australian drone firm reshapes strategy over Google pull-out threat\n",
      "pos|Stock Market Today With Jim Cramer: Buy Amazon\n",
      "pos|Kuaishous Mega IPO by the Numbers, the Largest Listing Since Uber\n",
      "pos|StockBeat: Nokia's 'Jam Tomorrow' Message Is a Reality Check for Reddit Crew\n",
      "pos|Sergey Brin: Google co-founder sets up family firm in Singapore\n",
      "neg|Two Google engineers resign over firing of AI ethics researcher Timnit Gebru\n",
      "neg|Two Google engineers resign over firing of AI ethics researcher Timnit Gebru\n",
      "pos|Global Markets: Oil on the boil, stocks and bonds toil\n",
      "pos|Oil on the boil, stocks and bonds toil\n",
      "neg|GLOBAL MARKETS-Asian stocks ease as caution persists despite calmer markets\n",
      "pos|Google Cloud, YouTube Juices Earnings\n",
      "pos|Tech Sector Shows Its Enormous Earnings Power\n",
      "pos|Why Ford is teaming up with Google in a big way\n",
      "pos|Stock Market Today: Big Energy, Clean Energy Keep Stocks Aloft\n",
      "pos|US STOCKS-S&P 500, Dow end up for 3rd day as Alphabet jumps, volatility eases\n",
      "pos|Dow Jones Rises For Third Straight Session But Indexes Fade; Alphabet Gains After Earnings\n",
      "pos|Amazon's new CEO is a 'cloud titan'  here's why that matters\n",
      "pos|Google Stock Pops As Earnings Crush Views Amid Advertising Rebound\n",
      "pos|US STOCKS-S&P 500 ends higher as Alphabet jumps, volatility eases\n",
      "pos|Google Wants to Use Drones to Fight Fires\n",
      "pos|US STOCKS-Wall Street climbs as Alphabet jumps, volatility eases\n",
      "pos|Stocks higher as investors eye jobs data, big tech earnings\n",
      "pos|Amazons Next CEO Says Hes Committed to Making Video Games\n",
      "pos|Alphabet Stock Is in Record Territory Because Advertising Came Back\n",
      "pos|Jim Cramer: These Companies Are the Lombardi Trophy Winners of Business\n",
      "pos|Google Smashed Top And Bottom-Line Wall Street Estimates\n",
      "pos|Dow Jones Reverses Higher As Nasdaq Aims For New High; Alphabet Stock Soars\n",
      "neg|Biden must insist that all multinationals be taxed, not just U.S. tech giants\n",
      "neg|Dow Slips In Mixed Session; Alibaba Makes This Bullish Move; GameStop Fights Back\n",
      "pos|Alphabet stock hits all-time high as analysts boost price targets\n",
      "pos|These 2 Nasdaq Tech Titans Are Getting the Stock Market's Attention\n",
      "neg|US STOCKS-Wall Street rally cools after two-day climb; Alphabet jumps\n",
      "neg|Dow Erases Losses, As GME Stock Rebounds; Alphabet, Amazon Move On Earnings, While Spotify Dives\n",
      "pos|15 Best Innovative Stocks To Buy According To Hedge Funds\n",
      "neg|15 Biggest Corporate Fines in History\n",
      "pos|US STOCKS-Alphabet shares power S&P 500, Nasdaq; Amazon dips\n",
      "pos|Is Google Stock A Buy As Online Advertising Rebounds Amid More Cloud Transparency?\n",
      "pos|Crocs, Express, Amazon, Google and Chipotle highlighted as Zacks Bull and Bear of the Day\n",
      "neg|Dow Jones Today Slips, Nasdaq Gains Amid Amazon, Alphabet, PayPal Earnings\n",
      "pos|Why Alphabet Stock Just Jumped\n",
      "pos|Market Jumps Over 1% While Waiting for Amazon, Alphabet\n",
      "pos|Google's Revenue and Profitability Is Getting Ready to Accelerate Again\n",
      "pos|Google Stadia Streaming Service Halts Investments In Game Creation\n",
      "pos|Dow Jones Futures: Market Rally Revs Up, Four Stocks Break Out; Buy Amazon As Jeff Bezos Exits?\n",
      "pos|What Are FANG Stocks, And Should You Invest In Them?\n",
      "pos|Amazon gets first $5,000+ stock price target, and Alphabet gets first $3,000 target\n",
      "pos|US STOCKS-Futures rise on strong results from Alphabet, Amazon; private payrolls data on deck\n",
      "pos|Alphabet (GOOGL) Q4 Earnings and Revenues Beat Estimates\n",
      "pos|15 Biggest Companies That Originated In Silicon Valley\n",
      "neg|AI Is Becoming a New Weapon in the Battle Against Crop Pests\n",
      "pos|Amazon: The unstoppable rise of the internet giant\n",
      "neg|Amazon 'paying less business rates than retailers'\n",
      "pos|10 Biggest Companies Competing With Netflix\n",
      "pos|Better Buy: Amazon Stock or the Entire S&P 500?\n",
      "pos|3 Top Artificial Intelligence Stocks to Buy Now\n",
      "pos|3 Stocks to Bankroll Your Retirement\n",
      "pos|Should Amazon Or Netflix Try To Acquire AMC In 2021?\n",
      "neg|What I Learned From My Worst Investing Mistake\n",
      "pos|There Are 4 New Stocks in Robinhood's Top 10 Holdings\n",
      "neg|Class Action Against Amazon, Whole Foods Dismissed  Report\n",
      "pos|Amazon Clicks Buy, Orders Over 1,000 Natural Gas Engines for Its Fleet\n",
      "pos|Amazon Buying Hundreds Of Compressed Natural Gas Trucks: Reuters\n",
      "pos|Barron's Picks And Pans: Amazon, Biogen, Casey's General Stores, Hilton And More\n",
      "pos|$1.4 Billion Per Day: How Amazon Just Destroyed All Its Sales Records\n",
      "pos|Benzinga's Bulls And Bears Of The Week: Amazon, Comcast, GE, Moderna, Tesla And More\n",
      "neg|Checking Out Alibaba's Latest Quarterly Report\n",
      "neg|What's Going On With Chevron and ExxonMobil?\n",
      "neg|How Are Things Going for JFrog, BigCommerce, and ZoomInfo?\n",
      "pos|3 Reasons Microsoft Is Still a Growth Stock\n",
      "neg|Is Digital Realty a Buy?\n",
      "pos|Play the Field With These 4 Winning Stocks\n",
      "neg|Reddit Has Gone Stock Crazy! Here Are 3 Stocks for New Investors\n",
      "neg|Is Amazon's Healthcare Strategy Clear?\n",
      "neg|Worried About a 2021 Stock Market Crash? These 3 Stocks Have Staying Power\n",
      "pos|Is Markel a Buy?\n",
      "pos|Benchmarks Bill Gurley Takes Aim at Latest IPO Gains\n",
      "neg|Exxon Mobil and Chevron Talked Merger Last Year. But the Logic Has Faded.\n",
      "neg|Jeff Bezos Might Be the Best CEO Ever. Why Amazon Will Be Fine Without Him.\n",
      "neg|Amazon Bid to Delay Union Vote Rejected; Ballots Out Monday\n",
      "pos|Stock Market Rally Hits Highs Amid Google Earnings, Stimulus Hopes; GameStop, Reddit Plays Plunge, Jeff Bezos Exits As Amazon CEO\n",
      "pos|Amazons Stock Halo Slips on FANG Fatigue and Vaccine Fervor\n",
      "pos|Nordstrom eyes billions in new sales in a post COVID-19 recovery\n",
      "pos|Maplelanes Top 10 Stock Holdings\n",
      "pos|Judge rejects Whole Foods employees' claims over Black Lives Matter face masks\n",
      "pos|National IPR Center and Amazons Operation Fulfilled Action Target Super Bowl LV Counterfeits\n",
      "pos|'Queen's Gambit,' 'The Undoing': How miniseries demand is leading the TV revolution\n",
      "neg|Amazon Fights Back Against Unionizing Efforts\n",
      "pos|Tapestry just gained 1.5 million new customers, some buying $4,200 handbags: CEO\n",
      "pos|How YouTube, Cloud, and Hardware Drove Alphabet Stock to an All-Time High\n",
      "pos|Better Investing Opportunity: Magnite or Roku?\n",
      "pos|Better Buy: Amazon vs. Dollar Tree\n",
      "pos|More companies than usual are beating earnings estimates  and sales numbers are just as bullish for the stock market\n",
      "neg|REFILE-'Dystopia Prime:' Amazon AI van cameras spark surveillance concerns\n",
      "pos|Jeff Bezos Is Stepping Back: Where Amazon Stock Goes From Here\n",
      "neg|Spotify Had a Terrible Quarter -- Here Are 5 Reasons Why It's Still a Buy\n",
      "pos|15 Fastest Growing Developing Countries in 2020\n",
      "pos|These 2 Tech Stocks Are Absurdly Overvalued Right Now\n",
      "pos|1 Reason Jumia's Monster Run Is Just Getting Started\n",
      "pos|Better Than Bezos? 14 Founders (And Investors) Top Amazon's Big Dog\n",
      "pos|As Bezos Steps Back, Will Amazon Be A 'Kinder, Gentler' Behemoth?\n",
      "pos|As Bezos Leaves Amazon CEO Role, Expect More Pressure on Its Board\n",
      "pos|4 Unstoppable Growth Stocks to Invest in Right Now\n",
      "pos|Got $5,000? 5 of the Best Buffett Stocks to Buy Now\n",
      "pos|CEO turnover is picking up again\n",
      "neg|Alibabas $38 Billion Bond Sale Shows Jack Ma Fans Still Believe\n",
      "pos|Top 10 S&P 500 Stocks by Index Weight\n",
      "pos|Is Kroger Stock A Buy Right Now? Here's What Earnings, Charts Show\n",
      "neg|Amazon bucks UK's grim labour market with 1,000 apprenticeships\n",
      "neg|Amazon bucks UK's grim labour market with 1,000 apprenticeships\n",
      "neg|Who cares about independent chairs?\n",
      "pos|3 Key Growth Drivers to Watch for ANGI Homeservices\n",
      "pos|Amazon Stock Made You This Filthy Rich With Jeff Bezos As CEO\n",
      "neg|GameStop Has 1 Undeniable Advantage\n",
      "pos|Sir Richard Branson: Along with Elon Musk and Jeff Bezos, we can achieve 'incredible' space travel\n",
      "neg|Sen. Klobuchar introduces antitrust bill that would challenge big tech mergers\n",
      "neg|Its Halftime for Earnings, but It Hasnt Been a Blowout\n",
      "pos|15 Largest Law Firms in the World\n",
      "neg|The dark side of the GameStop bubble: Driving stock prices to the moon can hurt America\n",
      "pos|Here's What Makes Fastly a Top Edge Computing Stock\n",
      "pos|12 Most Influential Chinese Entrepreneurs\n",
      "neg|A Bullish Earnings Update Boosts Kohls Stock\n",
      "pos|Billionaire Ken Griffins Top 10 Stock Holdings\n",
      "pos|This Is My Highest Conviction Stock Heading Into 2021\n",
      "neg|UnitedHealth Says CEO IS Leaving, Sending Shares Down\n",
      "pos|2 Top Stocks to Buy in February\n",
      "pos|Why GoodRx Holdings Stock Went Up More Than 15% in January\n",
      "pos|Where Will Apple Stock Be in 5 Years?\n",
      "pos|Looking for Tech Stocks? These 3 Are Great Buys\n",
      "pos|What new Amazon CEO Andy Jassy needs to do to become a leader in sustainability like Apple\n",
      "neg|Merck Announces New CEO, But Reports Earnings Miss\n",
      "pos|Where to Invest $10,000 Right Now\n",
      "neg|Be Careful Investing in the Fake Meat Megatrend\n",
      "pos|Exclusive-Union leaders backing Amazon election in Alabama discuss effort with White House\n",
      "neg|Parler CEO Says He Was Fired by Board After He Proposed Cracking Down on QAnon, Terrorists and Hate Speech\n",
      "pos|Forget WallStreetBets and the Short Sellers: 3 Stocks You Can Buy and Hold for Decades\n",
      "neg|Influencers with Andy Serwer: Irina Novoselsky\n",
      "pos|3 Hot Growth Stocks to Buy in February\n",
      "pos|Amazon will monitor delivery drivers with AI cameras that know when they yawn\n",
      "pos|Amazon: Five things we know about new boss Andy Jassy\n",
      "pos|Exclusive: Union leaders backing Amazon election in Alabama discuss effort with White House\n",
      "pos|Here's My Single Best Investment Idea for February\n",
      "pos|Win Big in the Stock Market by Preparing to Fail. All the Best Investors Do.\n",
      "pos|Thinking About Buying Blink Charging Stock? Here's Why You Might Want to Avoid It\n",
      "pos|3 Huge Fintechs That Could Go Public Soon\n",
      "pos|15 Countries With The Highest Corporate Tax Rates\n",
      "pos|These 3 Elite Dividend Stocks Should Pay You Bigger Checks Soon\n",
      "pos|Amazon to build $200 million distribution center in eastern Tennessee\n",
      "pos|Amazon plans AI-powered cameras in delivery vans to improve driver safety\n",
      "pos|Bezos shift at Amazon adds to Big Tech succession\n",
      "pos|Here's What The Street Thinks Of Amazon's New Boss\n",
      "\n"
     ]
    }
   ],
   "source": [
    "f = open(\"tech_news_file1.txt\", \"r\")\n",
    "print(f.read())"
   ]
  },
  {
   "cell_type": "markdown",
   "metadata": {},
   "source": [
    "Made 2 lists 1 for labels for each news headline another for new headlines it self."
   ]
  },
  {
   "cell_type": "code",
   "execution_count": 198,
   "metadata": {},
   "outputs": [
    {
     "name": "stdout",
     "output_type": "stream",
     "text": [
      "Using for loop\n",
      "Line1: pos|Apple Supplier Dialog Semi Holds Talks With Suitors Including Renesas\n",
      "Line2: pos|Dow Jones Futures: Congress Fast Tracks Biden Stimulus; Market Rally Warning Signs\n",
      "Line3: neg|10 Biggest Companies Competing With Netflix\n",
      "Line4: pos|20 Fastest Growing Tech Cities in the World\n",
      "Line5: pos|15 Biggest Canadian Software Companies\n",
      "Line6: pos|3 Warren Buffett Stocks Worth Buying Now\n",
      "Line7: neg|Dow Jones Futures: Coronavirus Vaccinations Hit Milestone; Market Rally Warning Signs\n",
      "Line8: pos|Dow Jones Futures: Congress Fast Tracks Biden Stimulus Plan, Coronavirus Vaccinations Hit Milestone; Market Rally Warning Signs\n",
      "Line9: pos|Top Apple Shareholders\n",
      "Line10: pos|These Are The Best Robinhood Stocks To Buy Or Watch Now\n",
      "Line11: pos|From Netflix's 'Queen's Gambit' to HBO's 'Undoing,' here's how the miniseries is leading TVs revolution\n",
      "Line12: pos|Dow Jones Stocks To Buy And Watch In February 2021: AAPL Rallies On Apple Car Buzz\n",
      "Line13: pos|Where to Look for the Best Electric-Vehicle Stocks Now\n",
      "Line14: neg|Forget AMC! These Tech Stocks Are Better Buys Right Now\n",
      "Line15: pos|Better Buy: Apple vs. Alphabet\n",
      "Line16: pos|At $2.5 Trillion, Can Apple Get Much Bigger?\n",
      "Line17: neg|Amid Stock Frenzy, Bonds Send Message: Inflation Is Coming\n",
      "Line18: pos|Snap and Pinterest Both Posted Solid Earnings. Heres What Wall Street Is Saying.\n",
      "Line19: pos|The Wonderful World of EVs: Stocks You Need To Be Watching\n",
      "Line20: neg|Apple Talks With Hyundai, Kia on Electric Car Paused Recently\n",
      "Line21: pos|RPT: Apple in talks to build autonomous EV with Kia\n",
      "Line22: neg|Avoiding The Apple Stock Earnings Drawdown\n",
      "Line23: neg|Chip Shortage Spirals Beyond Cars to Phones and Game Consoles\n",
      "Line24: pos|10 Best Technology Stocks That Pay Dividends\n",
      "Line25: pos|Dow Jones Rallies As J&J Stock Gains, Senate OKs Biden's Stimulus Bill\n",
      "Line26: pos|Is Apple Stock A Buy Amid Growing Apple Car Speculation?\n",
      "Line27: pos|Apple Talks With Hyundai-Kia Paused: Report\n",
      "Line28: neg|Facebook Faces Apple-Related Headwinds in 2021\n",
      "Line29: neg|Facebook hates Apple's new privacy feature  here's how App Tracking Transparency works\n",
      "Line30: pos|Will Apple Hit a $3 Trillion Market Cap in 2021?\n",
      "Line31: pos|Why Apple could be Tesla's fiercest rival in the EV game\n",
      "Line32: pos|Can Apple Beat Facebook in VR and AR?\n",
      "Line33: neg|Peloton President: 'We see light at the end of the tunnel' on bike delays\n",
      "Line34: pos|How Apple (AAPL) Stock Stands Out in a Strong Industry\n",
      "Line35: neg|Snap (SNAP) Sharply Lower After Q1 Profit Warning\n",
      "Line36: pos|Snap Jumps 5% After Wall Street Cheers Mixed Results\n",
      "Line37: pos|15 Fastest Growing Developing Countries in 2020\n",
      "Line38: neg|Apple Is Still Mostly an iPhone Company. That's Becoming a Problem.\n",
      "Line39: pos|Does Skyworks Solutions Stand to Gain From Apples Success?\n",
      "Line40: neg|Snap Faces A Challenging 1Q; Shares Drop 7.5% After-Hours\n",
      "Line41: neg|Apple VR headset revealed in more detail as rumours suggest it could include vast numbers of cameras  and even bigger price\n",
      "Line42: neg|Apple's VR Device To Cost $3,000 And Feature Changeable Headbands: Report\n",
      "Line43: pos|Apple Car Reports Fuel Speculation of Kia or Japan Carmaker Deal\n",
      "Line44: neg|Apples privacy changes are affecting more than just Facebook\n",
      "Line45: pos|Watch Out Tesla, Is That Apple in the Rear View Mirror?\n",
      "Line46: pos|Top 10 S&P 500 Stocks by Index Weight\n",
      "Line47: neg|Snap Shares Slide on Risks to Momentum Even as Sales Jump\n",
      "Line48: neg|Snaps Great Q4 Overshadowed By Mixed Guidance\n",
      "Line49: neg|Snap Stock Falls After Company Warns of Disruptions in 2021\n",
      "Line50: pos|T-Mobile Beat Earnings Estimates, but Guidance Fell Short, Nipping the Stock\n",
      "Line51: neg|Peloton Cant Keep Up With Demand; Profit to Be Squeezed\n",
      "Line52: pos|Rhode Island senator calls for carbon tax, urges 'Corporate America to show up'\n",
      "Line53: neg|Peloton Earnings Surge As Paid Digital Subscriptions Skyrocket, But PTON Stock Falls\n",
      "Line54: pos|Dow Rallies As Bulls Charge; GameStop Dives Again Amid Yellen Focus; Apple Stock Rises\n",
      "Line55: pos|Dow Jones Jumps 250 Points, Led By Surging American Express Stock; Align Technology, eBay, PayPal Soar on Earnings\n",
      "Line56: pos|Dow Rallies As House Clears Way For Stimulus; Apple Jumps On Car Buzz, While GME Stock Crumbles 37%\n",
      "Line57: pos|Expect a Rally in EV ETFs on a Likely Apple-Hyundai Deal\n",
      "Line58: neg|Sen. Klobuchar introduces antitrust bill that would challenge big tech mergers\n",
      "Line59: neg|Its Halftime for Earnings, but It Hasnt Been a Blowout\n",
      "Line60: pos|15 Largest Law Firms in the World\n",
      "Line61: neg|The dark side of the GameStop bubble: Driving stock prices to the moon can hurt America\n",
      "Line62: pos|Google Explores Alternative to Apples New Anti-Tracking Feature\n",
      "Line63: pos|12 Most Influential Chinese Entrepreneurs\n",
      "Line64: pos|Google phone cameras will read heart, breathing rates with AI help\n",
      "Line65: pos|The Zacks Analyst Blog Highlights: Apple, Microsoft, Facebook, Texas Instruments and QUALCOMM\n",
      "Line66: pos|Zacks Industry Outlook Highlights: Apple, HP and Lenovo\n",
      "Line67: pos|Why Shares of Electric-Vehicle Maker Canoo Jumped This Morning\n",
      "Line68: pos|Apple Shows Why It's a Must-Own Stock for the Future\n",
      "Line69: pos|Dow Jones Today Leads Stocks Higher Amid EBay, PayPal Earnings, Stimulus Progress, Apple EV Buzz\n",
      "Line70: pos|Apple, Hyatt Hotels, QUALCOMM, eBay and PayPal highlighted as Zacks Bull and Bear of the Day\n",
      "Line71: neg|Here's Why Facebook Could Be in Trouble, Even as Other Digital Advertisers Are Surging\n",
      "Line72: pos|Where Will Apple Stock Be in 5 Years?\n",
      "Line73: pos|What new Amazon CEO Andy Jassy needs to do to become a leader in sustainability like Apple\n",
      "Line74: neg|Influencers with Andy Serwer: Irina Novoselsky\n",
      "Line75: pos|Bull of the Day: Apple (AAPL)\n",
      "Line76: pos|The Zacks Analyst Blog Highlights: Netflix, Apple, Amazon and Comcast\n",
      "Line77: pos|Peloton Expected to Report Third-Straight Quarterly Profit, and Two More Numbers to Know\n",
      "Line78: pos|Apples adult filters stop iPhone users Googling the word Asian\n",
      "Line79: pos|Apple Extends Gains as Investors Test-Drive Apple Car Concept\n",
      "Line80: pos|Qualcomm Warning Shows Semiconductor Shortages Are Spreading\n",
      "Line81: pos|Sony Surges to 20-Year High as IPhone, Games Spur Outlook Hike\n",
      "Line82: pos|Apple may build a fully autonomous electric car with Hyundai-Kia: report\n",
      "Line83: pos|Dow Jones Futures: Stock Market Rally Holds Gains As Biden Floats Stimulus Compromise; Apple Chipmakers Tumble Late, eBay Breaks Out\n",
      "Line84: neg|Qualcomm Stock Falls After Results Fail to Impress. Heres What Happened.\n",
      "Line85: pos|Qorvo beats fiscal Q3 views, guides for more than $1 billion in sales in Q4\n",
      "Line86: pos|Apple Car Manufacturing Partner Picked For 2024 Launch: Report\n",
      "Line87: pos|Netflix, Amazon, Hulu flex muscles for Golden Globes, underscore Hollywood's streaming shift\n",
      "Line88: pos|Jim Cramer: These Companies Are the Lombardi Trophy Winners of Business\n",
      "Line89: pos|Heres how the FAANG companies stack up this earnings season\n",
      "Line90: pos|Amazon.coms CEO Change Is Huge News. Wall Street Isnt Worried.\n",
      "Line91: pos|Biden must insist that all multinationals be taxed, not just U.S. tech giants\n",
      "Line92: pos|Report: Kia to Build Apple's Electric Car in Georgia in 2024\n",
      "Line93: pos|Dow Erases Losses, As GME Stock Rebounds; Alphabet, Amazon Move On Earnings, While Spotify Dives\n",
      "Line94: pos|15 Best Innovative Stocks To Buy According To Hedge Funds\n",
      "Line95: pos|15 Biggest Corporate Fines in History\n",
      "Line96: pos|The Zacks Analyst Blog Highlights: Skyworks, Apple, Qorvo, Jabil and Synaptics\n",
      "Line97: pos|The Zacks Analyst Blog Highlights: Apple, Goldman Sachs, Microsoft, The Travelers Companies and Intel\n",
      "Line98: pos|Apple Just Tapped the Debt Market to Raise $14 Billion\n",
      "Line99: pos|Jeff Bezos Walks Through a One-Way Door, Opening a New Age for Amazon\n",
      "Line100: pos|Apple (AAPL) Reducing iPad, iPhone Manufacturing in China\n",
      "Line101: pos|3 Top Artificial Intelligence Stocks to Buy Now\n",
      "Line102: pos|15 Biggest Canadian Software Companies\n",
      "Line103: neg|Where Will fuboTV Be in 5 Years?\n",
      "Line104: pos|What's Going On With Chevron and ExxonMobil?\n",
      "Line105: pos|Better Buy: Apple vs. Alphabet\n",
      "Line106: neg|Reddit Has Gone Stock Crazy! Here Are 3 Stocks for New Investors\n",
      "Line107: pos|2 Healthcare IPOs to Watch in 2021\n",
      "Line108: pos|Jeff Bezos Might Be the Best CEO Ever. Why Amazon Will Be Fine Without Him.\n",
      "Line109: pos|Stock Market Rally Hits Highs Amid Google Earnings, Stimulus Hopes; GameStop, Reddit Plays Plunge, Jeff Bezos Exits As Amazon CEO\n",
      "Line110: pos|How Google (Alphabet) Makes Money\n",
      "Line111: pos|Maplelanes Top 10 Stock Holdings\n",
      "Line112: neg|4 Overvalued Stocks To Avoid For Now\n",
      "Line113: pos|Top Stock Reports for Alphabet, Pfizer & Uber\n",
      "Line114: pos|Twitter Signs a Larger Deal With Alphabet's Google Cloud\n",
      "Line115: pos|How YouTube, Cloud, and Hardware Drove Alphabet Stock to an All-Time High\n",
      "Line116: pos|15 Fastest Growing Developing Countries in 2020\n",
      "Line117: pos|As Bezos Steps Back, Will Amazon Be A 'Kinder, Gentler' Behemoth?\n",
      "Line118: pos|Google Will Use Some Offices as Coronavirus Vaccine Sites\n",
      "Line119: pos|Google Rolls Out Paid News Showcase Platform To Bypass Australia Content Law\n",
      "Line120: pos|Kuaishou Surges 161% In Biggest Technology IPO Since Uber\n",
      "Line121: pos|Google Pixel phones can now measure heart and breathing rates with its camera\n",
      "Line122: pos|Google opens paid-for Australia news platform in drive to undercut Canberra's content payment law\n",
      "Line123: pos|Google opens paid-for Australia news platform in drive to derail Canberra's content payment law\n",
      "Line124: pos|3 Top Stocks You Can Buy and Hold for the Next Decade\n",
      "Line125: pos|Top 10 S&P 500 Stocks by Index Weight\n",
      "Line126: neg|Fox News Faces $2.7 Billion Lawsuit Over Voting Machine Fraud Claims\n",
      "Line127: pos|Kuaishou Shares Triple in Hong Kong Debut\n",
      "Line128: neg|How a Dated Cyber-Attack Brought a Stock Exchange to its Knees\n",
      "Line129: pos|Ford More Than Doubles EV, Self-Driving Investment As Earnings Crush; Chip Shortage To Bite\n",
      "Line130: neg|Strong Get Stronger: Alphabet Composite Rating Improves To 98\n",
      "Line131: pos|Alphabet's Google Phones to Use Artificial Intelligence to Measure Pulse and Breathing\n",
      "Line132: pos|Rhode Island senator calls for carbon tax, urges 'Corporate America to show up'\n",
      "Line133: pos|Twitter, Google Cloud announce multi-year strategic partnership\n",
      "Line134: pos|Will Google ETFs Keep Shining on Q4 Earnings Optimism?\n",
      "Line135: pos|Alphabet Union Alleges Contract Workers Were Silenced About Pay\n",
      "Line136: neg|Texas court considers hearing on changing venue of Google antitrust case\n",
      "Line137: neg|Texas court considers hearing on changing venue of Google antitrust case\n",
      "Line138: neg|Odds Are This Fund Topped Yours  Without FAANG Stocks like Amazon, Apple and Netflix\n",
      "Line139: neg|Sen. Klobuchar introduces antitrust bill that would challenge big tech mergers\n",
      "Line140: pos|15 Largest Law Firms in the World\n",
      "Line141: pos|Google Explores Alternative to Apples New Anti-Tracking Feature\n",
      "Line142: neg|How Risky Is Mastercard?\n",
      "Line143: pos|Google phone cameras will read heart, breathing rates with AI help\n",
      "Line144: Here's Why Facebook Could Be in Trouble, Even as Other Digital Advertisers Are Surging\n"
     ]
    },
    {
     "ename": "IndexError",
     "evalue": "list index out of range",
     "output_type": "error",
     "traceback": [
      "\u001b[0;31m---------------------------------------------------------------------------\u001b[0m",
      "\u001b[0;31mIndexError\u001b[0m                                Traceback (most recent call last)",
      "\u001b[0;32m<ipython-input-198-fb79c45d59ed>\u001b[0m in \u001b[0;36m<module>\u001b[0;34m\u001b[0m\n\u001b[1;32m     11\u001b[0m     \u001b[0mseparated\u001b[0m \u001b[0;34m=\u001b[0m \u001b[0mline\u001b[0m\u001b[0;34m.\u001b[0m\u001b[0mstrip\u001b[0m\u001b[0;34m(\u001b[0m\u001b[0;34m)\u001b[0m\u001b[0;34m.\u001b[0m\u001b[0msplit\u001b[0m\u001b[0;34m(\u001b[0m\u001b[0;34m\"|\"\u001b[0m\u001b[0;34m)\u001b[0m\u001b[0;34m\u001b[0m\u001b[0;34m\u001b[0m\u001b[0m\n\u001b[1;32m     12\u001b[0m     \u001b[0mlabels\u001b[0m\u001b[0;34m.\u001b[0m\u001b[0mappend\u001b[0m\u001b[0;34m(\u001b[0m\u001b[0mseparated\u001b[0m\u001b[0;34m[\u001b[0m\u001b[0;36m0\u001b[0m\u001b[0;34m]\u001b[0m\u001b[0;34m)\u001b[0m\u001b[0;34m\u001b[0m\u001b[0;34m\u001b[0m\u001b[0m\n\u001b[0;32m---> 13\u001b[0;31m     \u001b[0mnews\u001b[0m\u001b[0;34m.\u001b[0m\u001b[0mappend\u001b[0m\u001b[0;34m(\u001b[0m\u001b[0mseparated\u001b[0m\u001b[0;34m[\u001b[0m\u001b[0;36m1\u001b[0m\u001b[0;34m]\u001b[0m\u001b[0;34m)\u001b[0m\u001b[0;34m\u001b[0m\u001b[0;34m\u001b[0m\u001b[0m\n\u001b[0m\u001b[1;32m     14\u001b[0m \u001b[0;34m\u001b[0m\u001b[0m\n\u001b[1;32m     15\u001b[0m \u001b[0;31m# Closing files\u001b[0m\u001b[0;34m\u001b[0m\u001b[0;34m\u001b[0m\u001b[0;34m\u001b[0m\u001b[0m\n",
      "\u001b[0;31mIndexError\u001b[0m: list index out of range"
     ]
    }
   ],
   "source": [
    "file1 = open('tech_news_file1.txt', 'r')\n",
    "count = 0\n",
    "labels = []\n",
    "news = []\n",
    " \n",
    "# Using for loop\n",
    "print(\"Using for loop\")\n",
    "for line in file1:\n",
    "    count += 1\n",
    "    print(\"Line{}: {}\".format(count, line.strip()))\n",
    "    separated = line.strip().split(\"|\")\n",
    "    labels.append(separated[0])\n",
    "    news.append(separated[1])\n",
    " \n",
    "# Closing files\n",
    "file1.close()"
   ]
  },
  {
   "cell_type": "code",
   "execution_count": 203,
   "metadata": {},
   "outputs": [
    {
     "data": {
      "text/plain": [
       "'pos'"
      ]
     },
     "execution_count": 203,
     "metadata": {},
     "output_type": "execute_result"
    }
   ],
   "source": [
    "labels[0]"
   ]
  },
  {
   "cell_type": "code",
   "execution_count": 204,
   "metadata": {},
   "outputs": [
    {
     "data": {
      "text/plain": [
       "'Dow Jones Futures: Congress Fast Tracks Biden Stimulus; Market Rally Warning Signs'"
      ]
     },
     "execution_count": 204,
     "metadata": {},
     "output_type": "execute_result"
    }
   ],
   "source": [
    "news[1]"
   ]
  },
  {
   "cell_type": "markdown",
   "metadata": {},
   "source": [
    "#### simple bag of words model -\n",
    "sentiment analyzer will be a bag-of-words model. A bag-of-words model is one in which each input (in our case, each review) is first reduced to an unordered set of the words which occur within the input."
   ]
  },
  {
   "cell_type": "code",
   "execution_count": 206,
   "metadata": {},
   "outputs": [
    {
     "name": "stdout",
     "output_type": "stream",
     "text": [
      "['Apple', 'Supplier', 'Dialog', 'Semi', 'Holds', 'Talks', 'With', 'Suitors', 'Including', 'Renesas']\n",
      "['Apple', 'Supplier', 'Dialog', 'Semi', 'Holds', 'Talks', 'With', 'Suitors', 'Including', 'Renesas']\n"
     ]
    }
   ],
   "source": [
    "import nltk\n",
    "from nltk.tokenize import word_tokenize, RegexpTokenizer\n",
    "\n",
    "print(word_tokenize(news[0]))\n",
    "reTokenizer = RegexpTokenizer(r'\\w+')\n",
    "print(reTokenizer.tokenize(news[0]))"
   ]
  },
  {
   "cell_type": "markdown",
   "metadata": {},
   "source": [
    "#### Preparing the features - \n",
    "word_tokenize separates the review into a list of words, but considers punctuation as words. This might be desirable for some sorts of models  but for a bag-of-words model it seems like punctuation may add noise.\n"
   ]
  },
  {
   "cell_type": "code",
   "execution_count": 210,
   "metadata": {},
   "outputs": [],
   "source": [
    "all_words = []\n",
    "for i in range(len(reviews)):\n",
    "    tokens = reTokenizer.tokenize(reviews[i])\n",
    "    news[i] = []\n",
    "    for word in tokens:\n",
    "        word = word.lower\n",
    "        word = lemmatizer.lemmatize(word)\n",
    "        all_words.append(word)\n",
    "        news[i].append(word)"
   ]
  },
  {
   "cell_type": "markdown",
   "metadata": {},
   "source": [
    " we need to collect all the words from all the reviews into one list and keep the 3000 most common words as our bag-of-words vocabulary.All our words are in the list all_words. NLTK conveniently provides functionality for extracting the most common words from a list."
   ]
  },
  {
   "cell_type": "code",
   "execution_count": 211,
   "metadata": {},
   "outputs": [],
   "source": [
    "from nltk import FreqDist\n",
    "\n",
    "all_words = FreqDist(all_words)\n",
    "most_common_words = all_words.most_common(3000)\n",
    "word_features = []\n",
    "for w in most_common_words:\n",
    "      word_features.append(w[0])"
   ]
  },
  {
   "cell_type": "markdown",
   "metadata": {},
   "source": [
    "We collect all the words into our word_features list. We can now iterate through each review in reviews and create a vector of 1's and 0's for a given review depending on which words from our list."
   ]
  },
  {
   "cell_type": "code",
   "execution_count": 216,
   "metadata": {},
   "outputs": [],
   "source": [
    "def make_feature_dict(word_list):\n",
    "    feature_dict = {}\n",
    "    for w in word_features:\n",
    "        if w in word_list:\n",
    "            feature_dict[w] = 1\n",
    "        else:\n",
    "            feature_dict[w] = 0\n",
    "    return feature_dict"
   ]
  },
  {
   "cell_type": "code",
   "execution_count": 224,
   "metadata": {},
   "outputs": [],
   "source": [
    "labels = labels[:140]\n",
    "news = news[:140]"
   ]
  },
  {
   "cell_type": "markdown",
   "metadata": {},
   "source": [
    "### Train set and traning set of model - and classifier"
   ]
  },
  {
   "cell_type": "code",
   "execution_count": 225,
   "metadata": {},
   "outputs": [],
   "source": [
    "nltk_data_set = []\n",
    "for i in range(len(labels)):\n",
    "      nltk_data_set.append((make_feature_dict(news[i]), labels[i]))\n",
    "\n",
    "train_proportion = 0.9\n",
    "train_set_size = int(train_proportion * len(labels))\n",
    "\n",
    "training_set = nltk_data_set[:train_set_size]\n",
    "testing_set = nltk_data_set[train_set_size:]"
   ]
  },
  {
   "cell_type": "code",
   "execution_count": 226,
   "metadata": {},
   "outputs": [
    {
     "name": "stdout",
     "output_type": "stream",
     "text": [
      "Beginning classifier training...\n",
      "Finished classifier training... its accuracy on the testing set is: \n",
      "0.5714285714285714\n",
      "The most informative features were: \n",
      "Most Informative Features\n"
     ]
    }
   ],
   "source": [
    "print(\"Beginning classifier training...\")\n",
    "classifier = nltk.NaiveBayesClassifier.train(training_set)\n",
    "print(\"Finished classifier training... its accuracy on the testing set is: \")\n",
    "print(nltk.classify.accuracy(classifier, testing_set))\n",
    "\n",
    "print(\"The most informative features were: \")\n",
    "classifier.show_most_informative_features(30)"
   ]
  },
  {
   "cell_type": "code",
   "execution_count": 227,
   "metadata": {},
   "outputs": [
    {
     "name": "stdout",
     "output_type": "stream",
     "text": [
      "Beginning classifier training...\n",
      "Finished classifier training... its accuracy on the test set is: \n",
      "0.9285714285714286\n",
      "Beginning classifier training...\n",
      "Finished classifier training... its accuracy on the test set is: \n",
      "0.6428571428571429\n",
      "Beginning classifier training...\n",
      "Finished classifier training... its accuracy on the test set is: \n",
      "0.7142857142857143\n",
      "Beginning classifier training...\n",
      "Finished classifier training... its accuracy on the test set is: \n",
      "0.8571428571428571\n",
      "Beginning classifier training...\n",
      "Finished classifier training... its accuracy on the test set is: \n",
      "0.6428571428571429\n",
      "Beginning classifier training...\n",
      "Finished classifier training... its accuracy on the test set is: \n",
      "0.8571428571428571\n",
      "Beginning classifier training...\n",
      "Finished classifier training... its accuracy on the test set is: \n",
      "0.9285714285714286\n",
      "Beginning classifier training...\n",
      "Finished classifier training... its accuracy on the test set is: \n",
      "0.6428571428571429\n",
      "Beginning classifier training...\n",
      "Finished classifier training... its accuracy on the test set is: \n",
      "0.7142857142857143\n",
      "Beginning classifier training...\n",
      "Finished classifier training... its accuracy on the test set is: \n",
      "0.8571428571428571\n",
      "Average accuracy across 10 models: \n",
      "0.7785714285714287\n"
     ]
    }
   ],
   "source": [
    "import random\n",
    "\n",
    "train_proportion = 0.9\n",
    "train_set_size = int(train_proportion * len(labels))\n",
    "\n",
    "\n",
    "accuracies = 0\n",
    "for i in range(10):\n",
    "    random.shuffle(nltk_data_set)\n",
    "\n",
    "    training_set = nltk_data_set[:train_set_size]\n",
    "    testing_set = nltk_data_set[train_set_size:]\n",
    "\n",
    "    print(\"Beginning classifier training...\")\n",
    "    classifier = nltk.NaiveBayesClassifier.train(training_set)\n",
    "    print(\"Finished classifier training... its accuracy on the test set is: \")\n",
    "    print(nltk.classify.accuracy(classifier, testing_set))\n",
    "    accuracies += nltk.classify.accuracy(classifier, testing_set)\n",
    "\n",
    "print(\"Average accuracy across 10 models: \")\n",
    "print(accuracies/10)"
   ]
  }
 ],
 "metadata": {
  "kernelspec": {
   "display_name": "Python 3",
   "language": "python",
   "name": "python3"
  },
  "language_info": {
   "codemirror_mode": {
    "name": "ipython",
    "version": 3
   },
   "file_extension": ".py",
   "mimetype": "text/x-python",
   "name": "python",
   "nbconvert_exporter": "python",
   "pygments_lexer": "ipython3",
   "version": "3.8.5"
  }
 },
 "nbformat": 4,
 "nbformat_minor": 4
}
